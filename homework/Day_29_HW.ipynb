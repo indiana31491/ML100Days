{
 "cells": [
  {
   "cell_type": "code",
   "execution_count": 1,
   "metadata": {},
   "outputs": [
    {
     "name": "stdout",
     "output_type": "stream",
     "text": [
      "                0\n",
      "count   20.000000\n",
      "mean   165.950000\n",
      "std      9.213691\n",
      "min    144.000000\n",
      "25%    162.250000\n",
      "50%    165.000000\n",
      "75%    171.500000\n",
      "max    183.000000\n",
      "\n",
      "\n",
      "                0\n",
      "count   20.000000\n",
      "mean   168.300000\n",
      "std      9.766215\n",
      "min    151.000000\n",
      "25%    161.500000\n",
      "50%    169.000000\n",
      "75%    173.500000\n",
      "max    185.000000\n"
     ]
    }
   ],
   "source": [
    "# library\n",
    "import matplotlib.pyplot as plt\n",
    "import numpy as np\n",
    "import pandas as pd\n",
    "from scipy import stats\n",
    "import math\n",
    "import statistics\n",
    "import seaborn as sns\n",
    "\n",
    "men_height = [164, 175, 183, 173, 176, 159, 165, 165, 169, 151, 156, 163, 169, 144, 170, 177, 165, 160, 164, 171]\n",
    "women_height = [169, 170, 162, 154, 183, 173, 169, 167, 170, 185, 162, 175, 168, 151, 181, 170, 182, 156, 159, 160]\n",
    "\n",
    "df_men = pd.DataFrame(men_height)\n",
    "df_women = pd.DataFrame(women_height)\n",
    "\n",
    "print(df_men.describe())\n",
    "print('\\n')\n",
    "print(df_women.describe())"
   ]
  }
 ],
 "metadata": {
  "kernelspec": {
   "display_name": "Python 3",
   "language": "python",
   "name": "python3"
  },
  "language_info": {
   "codemirror_mode": {
    "name": "ipython",
    "version": 3
   },
   "file_extension": ".py",
   "mimetype": "text/x-python",
   "name": "python",
   "nbconvert_exporter": "python",
   "pygments_lexer": "ipython3",
   "version": "3.8.5"
  }
 },
 "nbformat": 4,
 "nbformat_minor": 4
}
