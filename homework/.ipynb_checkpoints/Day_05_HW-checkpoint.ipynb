{
 "cells": [
  {
   "cell_type": "code",
   "execution_count": 1,
   "metadata": {},
   "outputs": [],
   "source": [
    "import numpy as np"
   ]
  },
  {
   "cell_type": "code",
   "execution_count": 2,
   "metadata": {},
   "outputs": [],
   "source": [
    "english_score = np.array([55,89,76,65,48,70])\n",
    "math_score = np.array([60,85,60,68,np.nan,60])\n",
    "chinese_score = np.array([65,90,82,72,66,77])"
   ]
  },
  {
   "cell_type": "code",
   "execution_count": 3,
   "metadata": {},
   "outputs": [
    {
     "name": "stdout",
     "output_type": "stream",
     "text": [
      "英文平均：67.16666666666667, 英文最高：89, 英文最低：48, 英文標準差：13.433995020924426\n",
      "數學平均：66.6, 數學最高：85.0, 數學最低：60.0, 數學標準差：9.707728879609279\n",
      "國文平均：75.33333333333333, 國文最高：90, 國文最低：65, 國文標準差：8.825468196582484\n"
     ]
    }
   ],
   "source": [
    "#1. 請計算各科成績平均、最大值、最小值、標準差，其中數學缺一筆資料可忽略?\n",
    "english_ave = np.mean(english_score)\n",
    "math_ave = np.nanmean(math_score)\n",
    "chinese_ave = np.mean(chinese_score)\n",
    "english_max = np.max(english_score)\n",
    "math_max = np.nanmax(math_score)\n",
    "chinese_max = np.max(chinese_score)\n",
    "english_min = np.min(english_score)\n",
    "math_min = np.nanmin(math_score)\n",
    "chinese_min = np.min(chinese_score)\n",
    "english_sd = np.std(english_score)\n",
    "math_sd = np.nanstd(math_score)\n",
    "chinese_sd = np.std(chinese_score)\n",
    "\n",
    "print(\"英文平均：\" + str(english_ave) + \", 英文最高：\" + str(english_max) + \", 英文最低：\" + str(english_min) + \", 英文標準差：\" + str(english_sd))\n",
    "print(\"數學平均：\" + str(math_ave) + \", 數學最高：\" + str(math_max) + \", 數學最低：\" + str(math_min) + \", 數學標準差：\" + str(math_sd))\n",
    "print(\"國文平均：\" + str(chinese_ave) + \", 國文最高：\" + str(chinese_max) + \", 國文最低：\" + str(chinese_min) + \", 國文標準差：\" + str(chinese_sd))"
   ]
  },
  {
   "cell_type": "code",
   "execution_count": 4,
   "metadata": {},
   "outputs": [
    {
     "name": "stdout",
     "output_type": "stream",
     "text": [
      "數學平均：64.66666666666667, 數學最高：85.0, 數學最低：55.0, 數學標準差：9.860132971832694\n"
     ]
    }
   ],
   "source": [
    "#2. 第五位同學補考數學後成績為55，請計算補考後數學成績平均、最大值、最小值、標準差?\n",
    "math_score[4] = 55\n",
    "\n",
    "math_ave = np.nanmean(math_score)\n",
    "math_max = np.nanmax(math_score)\n",
    "math_min = np.nanmin(math_score)\n",
    "math_sd = np.nanstd(math_score)\n",
    "chinese_sd = np.std(chinese_score)\n",
    "\n",
    "print(\"數學平均：\" + str(math_ave) + \", 數學最高：\" + str(math_max) + \", 數學最低：\" + str(math_min) + \", 數學標準差：\" + str(math_sd))"
   ]
  },
  {
   "cell_type": "code",
   "execution_count": 5,
   "metadata": {},
   "outputs": [
    {
     "name": "stdout",
     "output_type": "stream",
     "text": [
      "與國文成績相關係數最高：英文\n"
     ]
    }
   ],
   "source": [
    "#3. 用補考後資料找出與國文成績相關係數最高的學科?\n",
    "math_corrcoef = np.corrcoef(chinese_score, math_score)\n",
    "english_corrcoef = np.corrcoef(chinese_score, english_score)\n",
    "if math_corrcoef[0,1] >= english_corrcoef[0,1] :\n",
    "    a = \"數學\"\n",
    "else :\n",
    "    a = \"英文\"\n",
    "print(\"數學相關係數：\" + str(math_corrcoef[0,1]))\n",
    "print(\"英文相關係數：\" + str(english_corrcoef[0,1]))\n",
    "print(\"與國文成績相關係數最高：\" + a)"
   ]
  }
 ],
 "metadata": {
  "kernelspec": {
   "display_name": "Python 3",
   "language": "python",
   "name": "python3"
  },
  "language_info": {
   "codemirror_mode": {
    "name": "ipython",
    "version": 3
   },
   "file_extension": ".py",
   "mimetype": "text/x-python",
   "name": "python",
   "nbconvert_exporter": "python",
   "pygments_lexer": "ipython3",
   "version": "3.8.5"
  }
 },
 "nbformat": 4,
 "nbformat_minor": 4
}
